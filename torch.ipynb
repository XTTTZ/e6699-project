{
 "cells": [
  {
   "cell_type": "code",
   "execution_count": 3,
   "metadata": {},
   "outputs": [
    {
     "name": "stdout",
     "output_type": "stream",
     "text": [
      "Sparsity in fc1.weight: 19.93%\n",
      "Sparsity in fc2.weight: 20.01%\n",
      "Sparsity in fc3.weight: 0.00%\n",
      "Sparsity in fc4.weight: 0.00%\n",
      "Sparsity in fc5.weight: 0.00%\n",
      "Sparsity in fc6.weight: 0.00%\n",
      "Sparsity in output.weight: 0.00%\n"
     ]
    }
   ],
   "source": [
    "import torch\n",
    "import torch.nn as nn\n",
    "\n",
    "\n",
    "def print_sparsity(model):\n",
    "    for name, param in model.named_parameters():\n",
    "        if 'weight' in name:\n",
    "            sparsity = float(torch.sum(param == 0)) / param.numel() * 100\n",
    "            print(f'Sparsity in {name}: {sparsity:.2f}%')\n",
    "\n",
    "class Model(nn.Module):\n",
    "    def __init__(self,input_size,output_size):\n",
    "        super(Model, self).__init__()\n",
    "        self.fc1 = nn.Linear(input_size, 1024)\n",
    "        self.relu = nn.ReLU()\n",
    "        self.fc2 = nn.Linear(1024, 1024)\n",
    "        self.relu = nn.ReLU()\n",
    "        self.fc3 = nn.Linear(1024, 1024)\n",
    "        self.relu = nn.ReLU()\n",
    "        self.fc4 = nn.Linear(1024, 1024)\n",
    "        self.relu = nn.ReLU()\n",
    "        self.fc5 = nn.Linear(1024, 1024)\n",
    "        self.relu = nn.ReLU()\n",
    "        self.fc6 = nn.Linear(1024, 1024)\n",
    "        self.output = nn.Linear(1024, output_size)\n",
    "\n",
    "    def forward(self, x):\n",
    "        x = self.fc1(x)\n",
    "        x = self.relu(x)\n",
    "        x = self.fc2(x)\n",
    "        x = self.relu(x)\n",
    "        x = self.fc3(x)\n",
    "        x = self.relu(x)\n",
    "        x = self.fc4(x)\n",
    "        x = self.relu(x)\n",
    "        x = self.fc5(x)\n",
    "        x = self.relu(x)\n",
    "        x = self.fc6(x)\n",
    "        x = self.output(x)\n",
    "        return x\n",
    "\n",
    "\n",
    "# 初始化网络\n",
    "input_size = 768\n",
    "output_size = 10\n",
    "model = Model(input_size,output_size)\n",
    "\n",
    "# 人为增加一些稀疏性\n",
    "model.fc1.weight.data[torch.rand_like(model.fc1.weight) > 0.8] = 0\n",
    "model.fc2.weight.data[torch.rand_like(model.fc2.weight) > 0.8] = 0\n",
    "\n",
    "# 打印稀疏性\n",
    "print_sparsity(model)"
   ]
  }
 ],
 "metadata": {
  "kernelspec": {
   "display_name": "math",
   "language": "python",
   "name": "python3"
  },
  "language_info": {
   "codemirror_mode": {
    "name": "ipython",
    "version": 3
   },
   "file_extension": ".py",
   "mimetype": "text/x-python",
   "name": "python",
   "nbconvert_exporter": "python",
   "pygments_lexer": "ipython3",
   "version": "3.11.8"
  }
 },
 "nbformat": 4,
 "nbformat_minor": 2
}
