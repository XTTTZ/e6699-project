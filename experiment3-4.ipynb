{
 "cells": [
  {
   "cell_type": "code",
   "execution_count": 1,
   "metadata": {},
   "outputs": [],
   "source": [
    "import torch\n",
    "import torchvision\n",
    "import torchvision.transforms as transforms\n",
    "import torch.optim as optim\n",
    "import pickle\n",
    "import torch.nn as nn\n",
    "from torch.utils.data import DataLoader\n",
    "import matplotlib.pyplot as plt\n",
    "from tqdm import tqdm"
   ]
  },
  {
   "cell_type": "code",
   "execution_count": 2,
   "metadata": {},
   "outputs": [],
   "source": [
    "# Define the CNN model\n",
    "class CNN(nn.Module):\n",
    "    def __init__(self):\n",
    "        super(CNN, self).__init__()\n",
    "        self.conv1 = nn.Conv2d(3, 64, kernel_size=5, padding=2)\n",
    "        self.pool1 = nn.MaxPool2d(kernel_size=3, stride=2)\n",
    "        self.conv2 = nn.Conv2d(64, 64, kernel_size=5, padding=2)\n",
    "        self.pool2 = nn.MaxPool2d(kernel_size=3, stride=2)\n",
    "        self.conv3 = nn.Conv2d(64, 128, kernel_size=5, padding=2)\n",
    "        self.pool3 = nn.MaxPool2d(kernel_size=3, stride=2)\n",
    "        self.fc1 = nn.Linear(128 * 3 * 3, 1000)\n",
    "        self.fc2 = nn.Linear(1000, 10)\n",
    "        self.relu = nn.ReLU()\n",
    "        self.flatten = nn.Flatten()\n",
    "        self.dropout = nn.Dropout(p=0.4)\n",
    "\n",
    "    def forward(self, x):\n",
    "        x = self.relu(self.conv1(x))\n",
    "        x = self.dropout(self.pool1(x))\n",
    "        x = self.relu(self.conv2(x))\n",
    "        x = self.pool2(x)\n",
    "        x = self.relu(self.conv3(x))\n",
    "        x = self.pool3(x)\n",
    "        x = self.flatten(x)\n",
    "        x = self.dropout(self.relu(self.fc1(x)))\n",
    "        x = self.fc2(x)\n",
    "        return x"
   ]
  },
  {
   "cell_type": "code",
   "execution_count": 3,
   "metadata": {},
   "outputs": [
    {
     "name": "stdout",
     "output_type": "stream",
     "text": [
      "Downloading https://www.cs.toronto.edu/~kriz/cifar-10-python.tar.gz to ./data\\cifar-10-python.tar.gz\n"
     ]
    },
    {
     "name": "stderr",
     "output_type": "stream",
     "text": [
      "100%|██████████| 170498071/170498071 [00:14<00:00, 11605791.33it/s]\n"
     ]
    },
    {
     "name": "stdout",
     "output_type": "stream",
     "text": [
      "Extracting ./data\\cifar-10-python.tar.gz to ./data\n",
      "50000\n",
      "Files already downloaded and verified\n",
      "10000\n"
     ]
    }
   ],
   "source": [
    "batch_size = 128\n",
    "# Load CIFAR10 train dataset\n",
    "train_set = torchvision.datasets.CIFAR10(root='./data', train=True, download=True, transform=None)\n",
    "train_loader = DataLoader(train_set, batch_size, shuffle=True, num_workers=2)\n",
    "print(len(train_set))\n",
    "\n",
    "# Load test dataset\n",
    "test_set = torchvision.datasets.CIFAR10(root='./data', train=False, download=True, transform=None)\n",
    "test_loader = DataLoader(test_set, batch_size, shuffle=False, num_workers=2)\n",
    "print(len(test_set))\n",
    "\n",
    "# Calculate mean and standard deviation of the dataset\n",
    "mean = train_set.data.mean(axis=(0,1,2)) / 255  # Calculate mean\n",
    "std = train_set.data.std(axis=(0,1,2)) / 255    # Calculate standard deviation\n",
    "\n",
    "# Define transforms including whitening\n",
    "transform1 = transforms.Compose([\n",
    "    transforms.ToTensor(),\n",
    "    transforms.Normalize(mean, std)\n",
    "])\n",
    "\n",
    "# Calculate mean and standard deviation of the dataset\n",
    "mean = test_set.data.mean(axis=(0,1,2)) / 255  # Calculate mean\n",
    "std = test_set.data.std(axis=(0,1,2)) / 255    # Calculate standard deviation\n",
    "\n",
    "# Define transforms including whitening\n",
    "transform2 = transforms.Compose([\n",
    "    transforms.ToTensor(),\n",
    "    transforms.Normalize(mean, std)\n",
    "])\n",
    "\n",
    "# regenerate datasets\n",
    "train_set = torchvision.datasets.CIFAR10(root='./data', train=True, download=False, transform=transform1)\n",
    "train_loader = DataLoader(train_set, batch_size, shuffle=True, num_workers=2)\n",
    "test_set = torchvision.datasets.CIFAR10(root='./data', train=False, download=False, transform=transform2)\n",
    "test_loader = DataLoader(test_set, batch_size, shuffle=False, num_workers=2)\n"
   ]
  },
  {
   "cell_type": "code",
   "execution_count": 4,
   "metadata": {},
   "outputs": [
    {
     "name": "stderr",
     "output_type": "stream",
     "text": [
      "Epoch 1/50: 100%|██████████| 391/391 [00:09<00:00, 41.62it/s] \n"
     ]
    },
    {
     "name": "stdout",
     "output_type": "stream",
     "text": [
      "Epoch 1/50, Training Loss: 1.6980, Training accuracy: 0.3789\n",
      "Epoch 1/50, Validation loss: 1.4943, Validation accuracy: 0.4456\n"
     ]
    },
    {
     "name": "stderr",
     "output_type": "stream",
     "text": [
      "Epoch 2/50: 100%|██████████| 391/391 [00:08<00:00, 46.44it/s] \n"
     ]
    },
    {
     "name": "stdout",
     "output_type": "stream",
     "text": [
      "Epoch 2/50, Training Loss: 1.4236, Training accuracy: 0.4855\n",
      "Epoch 2/50, Validation loss: 1.3550, Validation accuracy: 0.5092\n"
     ]
    },
    {
     "name": "stderr",
     "output_type": "stream",
     "text": [
      "Epoch 3/50: 100%|██████████| 391/391 [00:08<00:00, 46.26it/s] \n"
     ]
    },
    {
     "name": "stdout",
     "output_type": "stream",
     "text": [
      "Epoch 3/50, Training Loss: 1.3299, Training accuracy: 0.5218\n",
      "Epoch 3/50, Validation loss: 1.3510, Validation accuracy: 0.5100\n"
     ]
    },
    {
     "name": "stderr",
     "output_type": "stream",
     "text": [
      "Epoch 4/50: 100%|██████████| 391/391 [00:08<00:00, 47.36it/s] \n"
     ]
    },
    {
     "name": "stdout",
     "output_type": "stream",
     "text": [
      "Epoch 4/50, Training Loss: 1.2708, Training accuracy: 0.5450\n",
      "Epoch 4/50, Validation loss: 1.2553, Validation accuracy: 0.5564\n"
     ]
    },
    {
     "name": "stderr",
     "output_type": "stream",
     "text": [
      "Epoch 5/50: 100%|██████████| 391/391 [00:08<00:00, 48.20it/s] \n"
     ]
    },
    {
     "name": "stdout",
     "output_type": "stream",
     "text": [
      "Epoch 5/50, Training Loss: 1.2239, Training accuracy: 0.5626\n",
      "Epoch 5/50, Validation loss: 1.2234, Validation accuracy: 0.5654\n"
     ]
    },
    {
     "name": "stderr",
     "output_type": "stream",
     "text": [
      "Epoch 6/50: 100%|██████████| 391/391 [00:08<00:00, 48.50it/s] \n"
     ]
    },
    {
     "name": "stdout",
     "output_type": "stream",
     "text": [
      "Epoch 6/50, Training Loss: 1.1911, Training accuracy: 0.5763\n",
      "Epoch 6/50, Validation loss: 1.1742, Validation accuracy: 0.5803\n"
     ]
    },
    {
     "name": "stderr",
     "output_type": "stream",
     "text": [
      "Epoch 7/50: 100%|██████████| 391/391 [00:08<00:00, 47.07it/s] \n"
     ]
    },
    {
     "name": "stdout",
     "output_type": "stream",
     "text": [
      "Epoch 7/50, Training Loss: 1.1594, Training accuracy: 0.5896\n",
      "Epoch 7/50, Validation loss: 1.1278, Validation accuracy: 0.5964\n"
     ]
    },
    {
     "name": "stderr",
     "output_type": "stream",
     "text": [
      "Epoch 8/50: 100%|██████████| 391/391 [00:08<00:00, 48.80it/s] \n"
     ]
    },
    {
     "name": "stdout",
     "output_type": "stream",
     "text": [
      "Epoch 8/50, Training Loss: 1.1322, Training accuracy: 0.5995\n",
      "Epoch 8/50, Validation loss: 1.1157, Validation accuracy: 0.5984\n"
     ]
    },
    {
     "name": "stderr",
     "output_type": "stream",
     "text": [
      "Epoch 9/50: 100%|██████████| 391/391 [00:08<00:00, 45.83it/s] \n"
     ]
    },
    {
     "name": "stdout",
     "output_type": "stream",
     "text": [
      "Epoch 9/50, Training Loss: 1.1091, Training accuracy: 0.6086\n",
      "Epoch 9/50, Validation loss: 1.1090, Validation accuracy: 0.6020\n"
     ]
    },
    {
     "name": "stderr",
     "output_type": "stream",
     "text": [
      "Epoch 10/50: 100%|██████████| 391/391 [00:07<00:00, 49.07it/s] \n"
     ]
    },
    {
     "name": "stdout",
     "output_type": "stream",
     "text": [
      "Epoch 10/50, Training Loss: 1.0906, Training accuracy: 0.6161\n",
      "Epoch 10/50, Validation loss: 1.0841, Validation accuracy: 0.6089\n"
     ]
    },
    {
     "name": "stderr",
     "output_type": "stream",
     "text": [
      "Epoch 11/50: 100%|██████████| 391/391 [00:08<00:00, 47.72it/s] \n"
     ]
    },
    {
     "name": "stdout",
     "output_type": "stream",
     "text": [
      "Epoch 11/50, Training Loss: 1.0710, Training accuracy: 0.6211\n",
      "Epoch 11/50, Validation loss: 1.0903, Validation accuracy: 0.6052\n"
     ]
    },
    {
     "name": "stderr",
     "output_type": "stream",
     "text": [
      "Epoch 12/50: 100%|██████████| 391/391 [00:09<00:00, 40.71it/s] \n"
     ]
    },
    {
     "name": "stdout",
     "output_type": "stream",
     "text": [
      "Epoch 12/50, Training Loss: 1.0552, Training accuracy: 0.6275\n",
      "Epoch 12/50, Validation loss: 1.0989, Validation accuracy: 0.6059\n"
     ]
    },
    {
     "name": "stderr",
     "output_type": "stream",
     "text": [
      "Epoch 13/50: 100%|██████████| 391/391 [00:08<00:00, 46.11it/s] \n"
     ]
    },
    {
     "name": "stdout",
     "output_type": "stream",
     "text": [
      "Epoch 13/50, Training Loss: 1.0385, Training accuracy: 0.6323\n",
      "Epoch 13/50, Validation loss: 1.0787, Validation accuracy: 0.6147\n"
     ]
    },
    {
     "name": "stderr",
     "output_type": "stream",
     "text": [
      "Epoch 14/50: 100%|██████████| 391/391 [00:08<00:00, 47.31it/s] \n"
     ]
    },
    {
     "name": "stdout",
     "output_type": "stream",
     "text": [
      "Epoch 14/50, Training Loss: 1.0241, Training accuracy: 0.6414\n",
      "Epoch 14/50, Validation loss: 1.0404, Validation accuracy: 0.6259\n"
     ]
    },
    {
     "name": "stderr",
     "output_type": "stream",
     "text": [
      "Epoch 15/50: 100%|██████████| 391/391 [00:08<00:00, 45.99it/s] \n"
     ]
    },
    {
     "name": "stdout",
     "output_type": "stream",
     "text": [
      "Epoch 15/50, Training Loss: 1.0115, Training accuracy: 0.6453\n",
      "Epoch 15/50, Validation loss: 1.0559, Validation accuracy: 0.6233\n"
     ]
    },
    {
     "name": "stderr",
     "output_type": "stream",
     "text": [
      "Epoch 16/50: 100%|██████████| 391/391 [00:08<00:00, 45.87it/s] \n"
     ]
    },
    {
     "name": "stdout",
     "output_type": "stream",
     "text": [
      "Epoch 16/50, Training Loss: 0.9985, Training accuracy: 0.6494\n",
      "Epoch 16/50, Validation loss: 1.0227, Validation accuracy: 0.6328\n"
     ]
    },
    {
     "name": "stderr",
     "output_type": "stream",
     "text": [
      "Epoch 17/50: 100%|██████████| 391/391 [00:07<00:00, 48.98it/s] \n"
     ]
    },
    {
     "name": "stdout",
     "output_type": "stream",
     "text": [
      "Epoch 17/50, Training Loss: 0.9860, Training accuracy: 0.6553\n",
      "Epoch 17/50, Validation loss: 1.0126, Validation accuracy: 0.6395\n"
     ]
    },
    {
     "name": "stderr",
     "output_type": "stream",
     "text": [
      "Epoch 18/50: 100%|██████████| 391/391 [00:08<00:00, 47.89it/s] \n"
     ]
    },
    {
     "name": "stdout",
     "output_type": "stream",
     "text": [
      "Epoch 18/50, Training Loss: 0.9786, Training accuracy: 0.6558\n",
      "Epoch 18/50, Validation loss: 1.0075, Validation accuracy: 0.6412\n"
     ]
    },
    {
     "name": "stderr",
     "output_type": "stream",
     "text": [
      "Epoch 19/50: 100%|██████████| 391/391 [00:08<00:00, 47.74it/s] \n"
     ]
    },
    {
     "name": "stdout",
     "output_type": "stream",
     "text": [
      "Epoch 19/50, Training Loss: 0.9677, Training accuracy: 0.6584\n",
      "Epoch 19/50, Validation loss: 0.9964, Validation accuracy: 0.6455\n"
     ]
    },
    {
     "name": "stderr",
     "output_type": "stream",
     "text": [
      "Epoch 20/50: 100%|██████████| 391/391 [00:08<00:00, 47.73it/s] \n"
     ]
    },
    {
     "name": "stdout",
     "output_type": "stream",
     "text": [
      "Epoch 20/50, Training Loss: 0.9566, Training accuracy: 0.6665\n",
      "Epoch 20/50, Validation loss: 0.9815, Validation accuracy: 0.6490\n"
     ]
    },
    {
     "name": "stderr",
     "output_type": "stream",
     "text": [
      "Epoch 21/50: 100%|██████████| 391/391 [00:08<00:00, 48.33it/s] \n"
     ]
    },
    {
     "name": "stdout",
     "output_type": "stream",
     "text": [
      "Epoch 21/50, Training Loss: 0.9458, Training accuracy: 0.6687\n",
      "Epoch 21/50, Validation loss: 0.9524, Validation accuracy: 0.6572\n"
     ]
    },
    {
     "name": "stderr",
     "output_type": "stream",
     "text": [
      "Epoch 22/50: 100%|██████████| 391/391 [00:08<00:00, 48.82it/s] \n"
     ]
    },
    {
     "name": "stdout",
     "output_type": "stream",
     "text": [
      "Epoch 22/50, Training Loss: 0.9405, Training accuracy: 0.6701\n",
      "Epoch 22/50, Validation loss: 0.9670, Validation accuracy: 0.6541\n"
     ]
    },
    {
     "name": "stderr",
     "output_type": "stream",
     "text": [
      "Epoch 23/50: 100%|██████████| 391/391 [00:07<00:00, 49.75it/s] \n"
     ]
    },
    {
     "name": "stdout",
     "output_type": "stream",
     "text": [
      "Epoch 23/50, Training Loss: 0.9287, Training accuracy: 0.6748\n",
      "Epoch 23/50, Validation loss: 0.9603, Validation accuracy: 0.6562\n"
     ]
    },
    {
     "name": "stderr",
     "output_type": "stream",
     "text": [
      "Epoch 24/50: 100%|██████████| 391/391 [00:08<00:00, 47.01it/s] \n"
     ]
    },
    {
     "name": "stdout",
     "output_type": "stream",
     "text": [
      "Epoch 24/50, Training Loss: 0.9251, Training accuracy: 0.6741\n",
      "Epoch 24/50, Validation loss: 0.9356, Validation accuracy: 0.6660\n"
     ]
    },
    {
     "name": "stderr",
     "output_type": "stream",
     "text": [
      "Epoch 25/50: 100%|██████████| 391/391 [00:08<00:00, 47.81it/s] \n"
     ]
    },
    {
     "name": "stdout",
     "output_type": "stream",
     "text": [
      "Epoch 25/50, Training Loss: 0.9167, Training accuracy: 0.6777\n",
      "Epoch 25/50, Validation loss: 0.9326, Validation accuracy: 0.6679\n"
     ]
    },
    {
     "name": "stderr",
     "output_type": "stream",
     "text": [
      "Epoch 26/50: 100%|██████████| 391/391 [00:08<00:00, 47.40it/s] \n"
     ]
    },
    {
     "name": "stdout",
     "output_type": "stream",
     "text": [
      "Epoch 26/50, Training Loss: 0.9094, Training accuracy: 0.6831\n",
      "Epoch 26/50, Validation loss: 0.9347, Validation accuracy: 0.6681\n"
     ]
    },
    {
     "name": "stderr",
     "output_type": "stream",
     "text": [
      "Epoch 27/50: 100%|██████████| 391/391 [00:08<00:00, 45.53it/s] \n"
     ]
    },
    {
     "name": "stdout",
     "output_type": "stream",
     "text": [
      "Epoch 27/50, Training Loss: 0.9011, Training accuracy: 0.6852\n",
      "Epoch 27/50, Validation loss: 0.9259, Validation accuracy: 0.6700\n"
     ]
    },
    {
     "name": "stderr",
     "output_type": "stream",
     "text": [
      "Epoch 28/50: 100%|██████████| 391/391 [00:07<00:00, 49.43it/s] \n"
     ]
    },
    {
     "name": "stdout",
     "output_type": "stream",
     "text": [
      "Epoch 28/50, Training Loss: 0.8946, Training accuracy: 0.6867\n",
      "Epoch 28/50, Validation loss: 0.9384, Validation accuracy: 0.6668\n"
     ]
    },
    {
     "name": "stderr",
     "output_type": "stream",
     "text": [
      "Epoch 29/50: 100%|██████████| 391/391 [00:07<00:00, 50.27it/s] \n"
     ]
    },
    {
     "name": "stdout",
     "output_type": "stream",
     "text": [
      "Epoch 29/50, Training Loss: 0.8902, Training accuracy: 0.6883\n",
      "Epoch 29/50, Validation loss: 0.9295, Validation accuracy: 0.6719\n"
     ]
    },
    {
     "name": "stderr",
     "output_type": "stream",
     "text": [
      "Epoch 30/50: 100%|██████████| 391/391 [00:07<00:00, 49.78it/s] \n"
     ]
    },
    {
     "name": "stdout",
     "output_type": "stream",
     "text": [
      "Epoch 30/50, Training Loss: 0.8857, Training accuracy: 0.6892\n",
      "Epoch 30/50, Validation loss: 0.9133, Validation accuracy: 0.6735\n"
     ]
    },
    {
     "name": "stderr",
     "output_type": "stream",
     "text": [
      "Epoch 31/50: 100%|██████████| 391/391 [00:07<00:00, 48.97it/s] \n"
     ]
    },
    {
     "name": "stdout",
     "output_type": "stream",
     "text": [
      "Epoch 31/50, Training Loss: 0.8772, Training accuracy: 0.6946\n",
      "Epoch 31/50, Validation loss: 0.9065, Validation accuracy: 0.6770\n"
     ]
    },
    {
     "name": "stderr",
     "output_type": "stream",
     "text": [
      "Epoch 32/50: 100%|██████████| 391/391 [00:08<00:00, 48.43it/s] \n"
     ]
    },
    {
     "name": "stdout",
     "output_type": "stream",
     "text": [
      "Epoch 32/50, Training Loss: 0.8739, Training accuracy: 0.6938\n",
      "Epoch 32/50, Validation loss: 0.9150, Validation accuracy: 0.6729\n"
     ]
    },
    {
     "name": "stderr",
     "output_type": "stream",
     "text": [
      "Epoch 33/50: 100%|██████████| 391/391 [00:08<00:00, 48.16it/s] \n"
     ]
    },
    {
     "name": "stdout",
     "output_type": "stream",
     "text": [
      "Epoch 33/50, Training Loss: 0.8658, Training accuracy: 0.6976\n",
      "Epoch 33/50, Validation loss: 0.9023, Validation accuracy: 0.6785\n"
     ]
    },
    {
     "name": "stderr",
     "output_type": "stream",
     "text": [
      "Epoch 34/50: 100%|██████████| 391/391 [00:11<00:00, 34.06it/s] \n"
     ]
    },
    {
     "name": "stdout",
     "output_type": "stream",
     "text": [
      "Epoch 34/50, Training Loss: 0.8604, Training accuracy: 0.6991\n",
      "Epoch 34/50, Validation loss: 0.8985, Validation accuracy: 0.6761\n"
     ]
    },
    {
     "name": "stderr",
     "output_type": "stream",
     "text": [
      "Epoch 35/50: 100%|██████████| 391/391 [00:10<00:00, 37.14it/s] \n"
     ]
    },
    {
     "name": "stdout",
     "output_type": "stream",
     "text": [
      "Epoch 35/50, Training Loss: 0.8561, Training accuracy: 0.7008\n",
      "Epoch 35/50, Validation loss: 0.9099, Validation accuracy: 0.6758\n"
     ]
    },
    {
     "name": "stderr",
     "output_type": "stream",
     "text": [
      "Epoch 36/50: 100%|██████████| 391/391 [00:12<00:00, 32.42it/s] \n"
     ]
    },
    {
     "name": "stdout",
     "output_type": "stream",
     "text": [
      "Epoch 36/50, Training Loss: 0.8508, Training accuracy: 0.7038\n",
      "Epoch 36/50, Validation loss: 0.8884, Validation accuracy: 0.6818\n"
     ]
    },
    {
     "name": "stderr",
     "output_type": "stream",
     "text": [
      "Epoch 37/50: 100%|██████████| 391/391 [00:11<00:00, 33.27it/s] \n"
     ]
    },
    {
     "name": "stdout",
     "output_type": "stream",
     "text": [
      "Epoch 37/50, Training Loss: 0.8464, Training accuracy: 0.7048\n",
      "Epoch 37/50, Validation loss: 0.8988, Validation accuracy: 0.6785\n"
     ]
    },
    {
     "name": "stderr",
     "output_type": "stream",
     "text": [
      "Epoch 38/50: 100%|██████████| 391/391 [00:11<00:00, 34.14it/s] \n"
     ]
    },
    {
     "name": "stdout",
     "output_type": "stream",
     "text": [
      "Epoch 38/50, Training Loss: 0.8425, Training accuracy: 0.7055\n",
      "Epoch 38/50, Validation loss: 0.8944, Validation accuracy: 0.6823\n"
     ]
    },
    {
     "name": "stderr",
     "output_type": "stream",
     "text": [
      "Epoch 39/50: 100%|██████████| 391/391 [00:10<00:00, 36.61it/s] \n"
     ]
    },
    {
     "name": "stdout",
     "output_type": "stream",
     "text": [
      "Epoch 39/50, Training Loss: 0.8370, Training accuracy: 0.7089\n",
      "Epoch 39/50, Validation loss: 0.8844, Validation accuracy: 0.6835\n"
     ]
    },
    {
     "name": "stderr",
     "output_type": "stream",
     "text": [
      "Epoch 40/50: 100%|██████████| 391/391 [00:12<00:00, 30.10it/s]\n"
     ]
    },
    {
     "name": "stdout",
     "output_type": "stream",
     "text": [
      "Epoch 40/50, Training Loss: 0.8292, Training accuracy: 0.7111\n",
      "Epoch 40/50, Validation loss: 0.8931, Validation accuracy: 0.6832\n"
     ]
    },
    {
     "name": "stderr",
     "output_type": "stream",
     "text": [
      "Epoch 41/50: 100%|██████████| 391/391 [00:11<00:00, 32.68it/s] \n"
     ]
    },
    {
     "name": "stdout",
     "output_type": "stream",
     "text": [
      "Epoch 41/50, Training Loss: 0.8252, Training accuracy: 0.7120\n",
      "Epoch 41/50, Validation loss: 0.8890, Validation accuracy: 0.6839\n"
     ]
    },
    {
     "name": "stderr",
     "output_type": "stream",
     "text": [
      "Epoch 42/50: 100%|██████████| 391/391 [00:12<00:00, 32.23it/s] \n"
     ]
    },
    {
     "name": "stdout",
     "output_type": "stream",
     "text": [
      "Epoch 42/50, Training Loss: 0.8227, Training accuracy: 0.7136\n",
      "Epoch 42/50, Validation loss: 0.8793, Validation accuracy: 0.6860\n"
     ]
    },
    {
     "name": "stderr",
     "output_type": "stream",
     "text": [
      "Epoch 43/50: 100%|██████████| 391/391 [00:12<00:00, 31.10it/s] \n"
     ]
    },
    {
     "name": "stdout",
     "output_type": "stream",
     "text": [
      "Epoch 43/50, Training Loss: 0.8176, Training accuracy: 0.7153\n",
      "Epoch 43/50, Validation loss: 0.8581, Validation accuracy: 0.6956\n"
     ]
    },
    {
     "name": "stderr",
     "output_type": "stream",
     "text": [
      "Epoch 44/50: 100%|██████████| 391/391 [00:12<00:00, 31.82it/s] \n"
     ]
    },
    {
     "name": "stdout",
     "output_type": "stream",
     "text": [
      "Epoch 44/50, Training Loss: 0.8140, Training accuracy: 0.7149\n",
      "Epoch 44/50, Validation loss: 0.8666, Validation accuracy: 0.6904\n"
     ]
    },
    {
     "name": "stderr",
     "output_type": "stream",
     "text": [
      "Epoch 45/50: 100%|██████████| 391/391 [00:13<00:00, 29.77it/s]\n"
     ]
    },
    {
     "name": "stdout",
     "output_type": "stream",
     "text": [
      "Epoch 45/50, Training Loss: 0.8074, Training accuracy: 0.7193\n",
      "Epoch 45/50, Validation loss: 0.8657, Validation accuracy: 0.6922\n"
     ]
    },
    {
     "name": "stderr",
     "output_type": "stream",
     "text": [
      "Epoch 46/50: 100%|██████████| 391/391 [00:11<00:00, 34.01it/s] \n"
     ]
    },
    {
     "name": "stdout",
     "output_type": "stream",
     "text": [
      "Epoch 46/50, Training Loss: 0.8040, Training accuracy: 0.7206\n",
      "Epoch 46/50, Validation loss: 0.8571, Validation accuracy: 0.6947\n"
     ]
    },
    {
     "name": "stderr",
     "output_type": "stream",
     "text": [
      "Epoch 47/50: 100%|██████████| 391/391 [00:13<00:00, 29.65it/s]\n"
     ]
    },
    {
     "name": "stdout",
     "output_type": "stream",
     "text": [
      "Epoch 47/50, Training Loss: 0.8015, Training accuracy: 0.7215\n",
      "Epoch 47/50, Validation loss: 0.8650, Validation accuracy: 0.6924\n"
     ]
    },
    {
     "name": "stderr",
     "output_type": "stream",
     "text": [
      "Epoch 48/50: 100%|██████████| 391/391 [00:11<00:00, 33.07it/s] \n"
     ]
    },
    {
     "name": "stdout",
     "output_type": "stream",
     "text": [
      "Epoch 48/50, Training Loss: 0.7958, Training accuracy: 0.7218\n",
      "Epoch 48/50, Validation loss: 0.8571, Validation accuracy: 0.6930\n"
     ]
    },
    {
     "name": "stderr",
     "output_type": "stream",
     "text": [
      "Epoch 49/50: 100%|██████████| 391/391 [00:12<00:00, 30.55it/s]\n"
     ]
    },
    {
     "name": "stdout",
     "output_type": "stream",
     "text": [
      "Epoch 49/50, Training Loss: 0.7930, Training accuracy: 0.7226\n",
      "Epoch 49/50, Validation loss: 0.8731, Validation accuracy: 0.6866\n"
     ]
    },
    {
     "name": "stderr",
     "output_type": "stream",
     "text": [
      "Epoch 50/50: 100%|██████████| 391/391 [00:13<00:00, 29.19it/s]\n"
     ]
    },
    {
     "name": "stdout",
     "output_type": "stream",
     "text": [
      "Epoch 50/50, Training Loss: 0.7906, Training accuracy: 0.7250\n",
      "Epoch 50/50, Validation loss: 0.8559, Validation accuracy: 0.6962\n"
     ]
    }
   ],
   "source": [
    "# Create an instance of the CNN model\n",
    "model = CNN()\n",
    "model.to('cuda')\n",
    "# Define loss function and optimizer\n",
    "criterion = nn.CrossEntropyLoss()\n",
    "optimizer = optim.Adam(model.parameters(), lr=1e-3)\n",
    "num_epoch = 50\n",
    "\n",
    "# logs\n",
    "loss_hists = {'train':[],'test': []}\n",
    "acc_hists = {'train':[],'test': []}\n",
    "\n",
    "# Train the model\n",
    "for epoch in range(num_epoch):  # loop over the dataset multiple times\n",
    "    train_loss = 0\n",
    "    correct_num = 0\n",
    "    for data in tqdm(train_loader, desc=f\"Epoch {epoch + 1}/{num_epoch}\"):\n",
    "        model.train()\n",
    "        inputs, labels = data\n",
    "        inputs, labels = inputs.to('cuda'), labels.to('cuda')\n",
    "        optimizer.zero_grad()\n",
    "        outputs = model(inputs)\n",
    "        \n",
    "        loss = criterion(outputs, labels)\n",
    "        loss.backward()\n",
    "        optimizer.step()\n",
    "        train_loss += loss.item()\n",
    "        \n",
    "        pred = outputs.argmax(dim=1)\n",
    "        correct_num += (pred == labels).sum().item()\n",
    "        \n",
    "    average_loss = train_loss/len(train_loader)\n",
    "    acc = correct_num/(len(train_loader)*batch_size)\n",
    "    loss_hists['train'].append(average_loss)\n",
    "    acc_hists['train'].append(acc)\n",
    "    print(f\"Epoch {epoch + 1}/{num_epoch}, Training Loss: {average_loss:.4f}, Training accuracy: {acc:.4f}\")\n",
    "    \n",
    "    model.eval()\n",
    "    with torch.no_grad():\n",
    "        correct_num = 0\n",
    "        val_loss = 0\n",
    "        for test_data in test_loader:\n",
    "            \n",
    "            test_inputs, test_labels = test_data\n",
    "            test_inputs, test_labels = test_inputs.to('cuda'), test_labels.to('cuda')\n",
    "            test_output = model(test_inputs)\n",
    "            loss = criterion(test_output,test_labels)\n",
    "            val_loss+=loss\n",
    "            \n",
    "            test_pred = test_output.argmax(dim=1)\n",
    "            correct_num += (test_pred == test_labels).sum().item()\n",
    "            \n",
    "        acc = correct_num/ (len(test_loader)*batch_size)\n",
    "        average_val_loss = val_loss/len(test_loader)\n",
    "        \n",
    "        loss_hists['test'].append(average_val_loss)\n",
    "        acc_hists['test'].append(acc)\n",
    "        print(f'Epoch {epoch + 1}/{num_epoch}, Validation loss: {average_val_loss:.4f}, Validation accuracy: {acc:.4f}')\n"
   ]
  },
  {
   "cell_type": "code",
   "execution_count": 5,
   "metadata": {},
   "outputs": [
    {
     "data": {
      "image/png": "[encoded data removed]",
      "text/plain": [
       "<Figure size 640x480 with 2 Axes>"
      ]
     },
     "metadata": {},
     "output_type": "display_data"
    }
   ],
   "source": [
    "# Save dictionary as Pickle\n",
    "with open(\"./result/adagrad-dropout-loss-50.pkl\", \"wb\") as loss_file:\n",
    "    pickle.dump(loss_hists, loss_file)\n",
    "with open(\"./result/adagrad-dropout-acc-50.pkl\", \"wb\") as acc_file:\n",
    "    pickle.dump(acc_hists, acc_file)\n",
    "\n",
    "# draw the loss figures\n",
    "fig, ax = plt.subplots(1,2)\n",
    "ax[0].plot(torch.tensor(loss_hists['train']).cpu().detach().numpy()) # can only matplotlib to plot numpy on CPU\n",
    "ax[0].plot(torch.tensor(loss_hists['test']).cpu().detach().numpy())\n",
    "ax[0].set_title('Loss-Epoch')\n",
    "ax[0].set_xlabel('Iterations')\n",
    "ax[0].set_ylabel('Loss')\n",
    "ax[0].legend(['Training loss', 'Validation loss'])\n",
    "\n",
    "ax[1].plot(torch.tensor(acc_hists['train']).cpu().detach().numpy())\n",
    "ax[1].plot(torch.tensor(acc_hists['test']).cpu().detach().numpy())\n",
    "ax[1].set_title('Acc-Epoch')\n",
    "ax[1].set_xlabel('Iterations')\n",
    "ax[1].set_ylabel('Accuracy')\n",
    "ax[1].legend(['Training acc', 'Validation acc'])\n",
    "plt.show()"
   ]
  },
  {
   "cell_type": "code",
   "execution_count": 50,
   "metadata": {},
   "outputs": [
    {
     "data": {
      "image/png": "[encoded data removed]",
      "text/plain": [
       "<Figure size 640x480 with 1 Axes>"
      ]
     },
     "metadata": {},
     "output_type": "display_data"
    }
   ],
   "source": [
    "# draw the loss figures\n",
    "with open('./result/adam-loss-50.pkl','rb') as f:\n",
    "    loss_hists = pickle.load(f)\n",
    " \n",
    "\n",
    "plt.plot(torch.tensor(loss_hists['train']).cpu().detach().numpy())\n",
    "# Customize the plot\n",
    "plt.xlabel('iterations')  # X-axis label\n",
    "plt.ylabel('Training cost')  # Y-axis label\n",
    "plt.title('Loss-Epoch')  # Title\n",
    "plt.grid(True)  # Add grid lines\n",
    "plt.legend(['Adam'])  # Add legend\n",
    "\n",
    "# Show the plot\n",
    "plt.show()"
   ]
  },
  {
   "cell_type": "code",
   "execution_count": 26,
   "metadata": {},
   "outputs": [],
   "source": [
    "import torch\n",
    "import torch.nn as nn\n",
    "import torch.optim as optim\n",
    "from torch.utils.data import DataLoader\n",
    "import torchvision.datasets as datasets\n",
    "import torchvision.transforms as transforms\n",
    "from tqdm import tqdm\n",
    "\n",
    "# Define the VAE model\n",
    "class VAE(nn.Module):\n",
    "    def __init__(self, input_dim=784, latent_dim=50):\n",
    "        super(VAE, self).__init__()\n",
    "        # Define the encoder layers\n",
    "        self.latent_dim = latent_dim\n",
    "        self.encoder = nn.Sequential(\n",
    "            nn.Linear(input_dim, 500),\n",
    "            nn.Softplus(),\n",
    "            nn.Linear(500, latent_dim * 2)  # Two sets of outputs: mean and log(variance)\n",
    "        )\n",
    "        \n",
    "        # Define the decoder layers\n",
    "        self.decoder = nn.Sequential(\n",
    "            nn.Linear(latent_dim, 500),\n",
    "            nn.Softplus(),\n",
    "            nn.Linear(500, input_dim),\n",
    "            nn.Sigmoid()  # Output values in the range [0, 1]\n",
    "        )\n",
    "\n",
    "    def encode(self, x):\n",
    "        # Encode the input to get the mean and log(variance) of the latent space\n",
    "        h = self.encoder(x)\n",
    "        mean, log_var = h[:, :self.latent_dim], h[:, self.latent_dim:]\n",
    "        return mean, log_var\n",
    "\n",
    "    def reparameterize(self, mean, log_var):\n",
    "        # Reparameterization trick: sample from the Gaussian with mean and variance\n",
    "        epsilon = torch.randn_like(log_var)\n",
    "        z = mean + torch.exp(0.5 * log_var) * epsilon\n",
    "        return z\n",
    "\n",
    "    def decode(self, z):\n",
    "        # Decode the latent space representation\n",
    "        return self.decoder(z)\n",
    "\n",
    "    def forward(self, x):\n",
    "        # Forward pass through the VAE\n",
    "        mean, log_var = self.encode(x)\n",
    "        z = self.reparameterize(mean, log_var)\n",
    "        x_recon = self.decode(z)\n",
    "        return x_recon, mean, log_var\n",
    "\n",
    "# Define the loss function\n",
    "def loss_function(x, x_hat, mean, log_var):\n",
    "    reproduction_loss = nn.functional.binary_cross_entropy(x_hat, x, reduction='sum')\n",
    "    KLD = - 0.5 * torch.sum(1+ log_var - mean.pow(2) - log_var.exp())\n",
    "\n",
    "    return reproduction_loss + KLD\n",
    "\n",
    "class AdamOptimizer:\n",
    "    def __init__(self, params, bias_cor, lr=0.001, beta1=0.9, beta2=0.999, eps=1e-8):\n",
    "        self.params = list(params)\n",
    "        self.lr = torch.tensor(lr)\n",
    "        self.beta1 = beta1\n",
    "        self.beta2 = beta2\n",
    "        self.eps = eps\n",
    "        self.t = torch.tensor(0)\n",
    "        self.m = [torch.zeros_like(p) for p in self.params]  # 初始化self.m列表\n",
    "        self.v = [torch.zeros_like(p) for p in self.params]  # 初始化self.v列表\n",
    "        self.bias_cor = bias_cor\n",
    "\n",
    "    def step(self):\n",
    "        if self.bias_cor == True:\n",
    "            self.t += 1\n",
    "        lr_t = self.lr * (torch.sqrt(1 - self.beta2 ** self.t) / (1 - self.beta1 ** self.t))\n",
    "        for i, p in enumerate(self.params):\n",
    "            if p.grad is not None:\n",
    "                self.m[i] = self.beta1 * self.m[i] + (1 - self.beta1) * p.grad\n",
    "                self.v[i] = self.beta2 * self.v[i] + (1 - self.beta2) * p.grad ** 2\n",
    "                m_hat = self.m[i] / (1 - self.beta1 ** self.t)\n",
    "                v_hat = self.v[i] / (1 - self.beta2 ** self.t)\n",
    "                p.data -= lr_t * m_hat / (torch.sqrt(v_hat) + self.eps)\n",
    "\n",
    "    def zero_grad(self):\n",
    "        for p in self.params:\n",
    "            if p.grad is not None:\n",
    "                p.grad.data.zero_()\n",
    "\n",
    "            "
   ]
  },
  {
   "cell_type": "code",
   "execution_count": 30,
   "metadata": {},
   "outputs": [
    {
     "name": "stderr",
     "output_type": "stream",
     "text": [
      "Epoch 1/10: 100%|██████████| 468/468 [00:14<00:00, 32.48it/s]\n"
     ]
    },
    {
     "name": "stdout",
     "output_type": "stream",
     "text": [
      "Epoch 1/10, Training Loss: 193.9590\n"
     ]
    },
    {
     "name": "stderr",
     "output_type": "stream",
     "text": [
      "Epoch 2/10: 100%|██████████| 468/468 [00:14<00:00, 32.98it/s]\n"
     ]
    },
    {
     "name": "stdout",
     "output_type": "stream",
     "text": [
      "Epoch 2/10, Training Loss: 138.8825\n"
     ]
    },
    {
     "name": "stderr",
     "output_type": "stream",
     "text": [
      "Epoch 3/10: 100%|██████████| 468/468 [00:14<00:00, 32.11it/s]\n"
     ]
    },
    {
     "name": "stdout",
     "output_type": "stream",
     "text": [
      "Epoch 3/10, Training Loss: 124.6981\n"
     ]
    },
    {
     "name": "stderr",
     "output_type": "stream",
     "text": [
      "Epoch 4/10: 100%|██████████| 468/468 [00:14<00:00, 32.31it/s]\n"
     ]
    },
    {
     "name": "stdout",
     "output_type": "stream",
     "text": [
      "Epoch 4/10, Training Loss: 117.6992\n"
     ]
    },
    {
     "name": "stderr",
     "output_type": "stream",
     "text": [
      "Epoch 5/10: 100%|██████████| 468/468 [00:15<00:00, 29.32it/s]\n"
     ]
    },
    {
     "name": "stdout",
     "output_type": "stream",
     "text": [
      "Epoch 5/10, Training Loss: 114.0754\n"
     ]
    },
    {
     "name": "stderr",
     "output_type": "stream",
     "text": [
      "Epoch 6/10: 100%|██████████| 468/468 [00:16<00:00, 27.72it/s]\n"
     ]
    },
    {
     "name": "stdout",
     "output_type": "stream",
     "text": [
      "Epoch 6/10, Training Loss: 111.8835\n"
     ]
    },
    {
     "name": "stderr",
     "output_type": "stream",
     "text": [
      "Epoch 7/10: 100%|██████████| 468/468 [00:14<00:00, 33.03it/s]\n"
     ]
    },
    {
     "name": "stdout",
     "output_type": "stream",
     "text": [
      "Epoch 7/10, Training Loss: 110.2804\n"
     ]
    },
    {
     "name": "stderr",
     "output_type": "stream",
     "text": [
      "Epoch 8/10: 100%|██████████| 468/468 [00:17<00:00, 27.30it/s]\n"
     ]
    },
    {
     "name": "stdout",
     "output_type": "stream",
     "text": [
      "Epoch 8/10, Training Loss: 109.0882\n"
     ]
    },
    {
     "name": "stderr",
     "output_type": "stream",
     "text": [
      "Epoch 9/10: 100%|██████████| 468/468 [00:18<00:00, 24.79it/s]\n"
     ]
    },
    {
     "name": "stdout",
     "output_type": "stream",
     "text": [
      "Epoch 9/10, Training Loss: 108.1784\n"
     ]
    },
    {
     "name": "stderr",
     "output_type": "stream",
     "text": [
      "Epoch 10/10: 100%|██████████| 468/468 [00:14<00:00, 33.04it/s]"
     ]
    },
    {
     "name": "stdout",
     "output_type": "stream",
     "text": [
      "Epoch 10/10, Training Loss: 107.5031\n"
     ]
    },
    {
     "name": "stderr",
     "output_type": "stream",
     "text": [
      "\n"
     ]
    }
   ],
   "source": [
    "# Set random seed for reproducibility\n",
    "torch.manual_seed(42)\n",
    "\n",
    "# Define hyperparameters\n",
    "input_size = 784\n",
    "hidden_size = 500\n",
    "latent_size = 50\n",
    "batch_size = 128\n",
    "lr = 1e-3\n",
    "beta1 = 0.9\n",
    "beta2 = 0.999\n",
    "num_epochs = 10\n",
    "bias_correction = True\n",
    "\n",
    "# Load MNIST dataset\n",
    "train_dataset = datasets.MNIST(root='./data', train=True, transform=transforms.ToTensor(), download=True)\n",
    "train_loader = DataLoader(train_dataset, batch_size=batch_size, shuffle=True, drop_last=True)\n",
    "# Initialize VAE model and optimizer\n",
    "model = VAE(input_size, latent_size)\n",
    "# Create an instance of the Adam optimizer\n",
    "adam_optimizer = AdamOptimizer(model.parameters(), bias_correction, lr, beta1, beta2)\n",
    "\n",
    "# Training loop\n",
    "for epoch in range(num_epochs):\n",
    "    train_loss = 0\n",
    "    for (data, _) in tqdm(train_loader, desc=f\"Epoch {epoch + 1}/{num_epochs}\"):\n",
    "        data = data.view(batch_size, -1)\n",
    "        adam_optimizer.zero_grad()\n",
    "        data_hat, mu, log_var = model(data)\n",
    "        loss = loss_function(data, data_hat, mu, log_var)\n",
    "        loss.backward()\n",
    "        # Get gradients\n",
    "        train_loss+=loss\n",
    "        # Perform optimization step\n",
    "        adam_optimizer.step()\n",
    "        \n",
    "    average_loss = train_loss/(len(train_loader)*batch_size)\n",
    "        \n",
    "    print(f\"Epoch {epoch + 1}/{num_epochs}, Training Loss: {average_loss:.4f}\")"
   ]
  }
 ],
 "metadata": {
  "kernelspec": {
   "display_name": "pytorch",
   "language": "python",
   "name": "python3"
  },
  "language_info": {
   "codemirror_mode": {
    "name": "ipython",
    "version": 3
   },
   "file_extension": ".py",
   "mimetype": "text/x-python",
   "name": "python",
   "nbconvert_exporter": "python",
   "pygments_lexer": "ipython3",
   "version": "3.9.16"
  }
 },
 "nbformat": 4,
 "nbformat_minor": 2
}
