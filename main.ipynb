{
 "cells": [
  {
   "cell_type": "code",
   "execution_count": 2,
   "metadata": {},
   "outputs": [],
   "source": [
    "from sklearn.datasets import fetch_openml\n",
    "import numpy as np\n",
    "np.random.seed(42)"
   ]
  },
  {
   "cell_type": "code",
   "execution_count": 3,
   "metadata": {},
   "outputs": [],
   "source": [
    "def relu(x):\n",
    "    return np.maximum(0, x)\n",
    "\n",
    "def relu_derivative(x):\n",
    "    return (x > 0).astype(float)\n",
    "\n",
    "class DenseLayer:\n",
    "    def __init__(self, input_size, output_size):\n",
    "        self.weights = np.random.randn(input_size, output_size) * 0.01\n",
    "        self.biases = np.zeros((1, output_size))\n",
    "    \n",
    "    def forward(self, input):\n",
    "        self.input = input\n",
    "        return np.dot(input, self.weights) + self.biases\n",
    "    \n",
    "    def backward(self, output_gradient, learning_rate):\n",
    "        weights_gradient = np.dot(self.input.T, output_gradient)\n",
    "        input_gradient = np.dot(output_gradient, self.weights.T)\n",
    "        self.weights -= learning_rate * weights_gradient\n",
    "        self.biases -= learning_rate * np.sum(output_gradient, axis=0, keepdims=True)\n",
    "        return input_gradient\n"
   ]
  },
  {
   "cell_type": "code",
   "execution_count": null,
   "metadata": {},
   "outputs": [],
   "source": [
    "class MultiLayerNetwork:\n",
    "    def __init__(self, layer_sizes):\n",
    "        self.layers = []\n",
    "        for i in range(len(layer_sizes) - 1):\n",
    "            self.layers.append(DenseLayer(layer_sizes[i], layer_sizes[i+1]))\n",
    "\n",
    "    def forward(self, input_data):\n",
    "        self.activations = [input_data]\n",
    "        x = input_data\n",
    "        for layer in self.layers:\n",
    "            x = layer.forward(x)\n",
    "            x = relu(x)  # Apply ReLU activation function\n",
    "            self.activations.append(x)\n",
    "        return x\n",
    "\n",
    "    def backward(self, y_true, learning_rate):\n",
    "        # Assume the last layer activation is softmax and loss is cross-entropy\n",
    "        last_activation = self.activations[-1]\n",
    "        y_pred = softmax(last_activation)\n",
    "        output_gradient = (y_pred - y_true) / y_pred.shape[0]  # Cross-entropy gradient\n",
    "\n",
    "        for i in reversed(range(len(self.layers))):\n",
    "            output_gradient = relu_derivative(self.activations[i+1]) * output_gradient\n",
    "            output_gradient = self.layers[i].backward(output_gradient, learning_rate)\n",
    "\n",
    "    def train(self, x_train, y_train, learning_rate, epochs):\n",
    "        for epoch in range(epochs):\n",
    "            for x, y in zip(x_train, y_train):\n",
    "                output = self.forward(x)\n",
    "                self.backward(y, learning_rate)\n",
    "            if epoch % 10 == 0:\n",
    "                print(f'Epoch {epoch}, Loss: {self.compute_loss(x_train, y_train)}')\n",
    "\n",
    "    def compute_loss(self, x_train, y_train):\n",
    "        loss = 0\n",
    "        for x, y in zip(x_train, y_train):\n",
    "            y_pred = softmax(self.forward(x))\n",
    "            loss += -np.sum(y * np.log(y_pred))\n",
    "        return loss / len(x_train)\n",
    "    \n",
    "def softmax(logits):\n",
    "    \"\"\"Compute softmax values for each set of scores in logits.\"\"\"\n",
    "    exp_scores = np.exp(logits - np.max(logits, axis=1, keepdims=True))\n",
    "    return exp_scores / np.sum(exp_scores, axis=1, keepdims=True)"
   ]
  },
  {
   "cell_type": "code",
   "execution_count": 5,
   "metadata": {},
   "outputs": [],
   "source": [
    "# 加载MNIST数据\n",
    "mnist = fetch_openml('mnist_784', version=1)\n",
    "X, y = mnist[\"data\"], mnist[\"target\"]"
   ]
  },
  {
   "cell_type": "code",
   "execution_count": 14,
   "metadata": {},
   "outputs": [
    {
     "name": "stdout",
     "output_type": "stream",
     "text": [
      "(70000, 784) (70000,)\n"
     ]
    },
    {
     "ename": "UFuncTypeError",
     "evalue": "ufunc 'subtract' did not contain a loop with signature matching types (dtype('float64'), dtype('<U1')) -> None",
     "output_type": "error",
     "traceback": [
      "\u001b[0;31m---------------------------------------------------------------------------\u001b[0m",
      "\u001b[0;31mUFuncTypeError\u001b[0m                            Traceback (most recent call last)",
      "Cell \u001b[0;32mIn[14], line 13\u001b[0m\n\u001b[1;32m     11\u001b[0m \u001b[38;5;28mprint\u001b[39m(X_np\u001b[38;5;241m.\u001b[39mshape, y_np\u001b[38;5;241m.\u001b[39mshape)\n\u001b[1;32m     12\u001b[0m network \u001b[38;5;241m=\u001b[39m MultiLayerNetwork(layer_sizes)\n\u001b[0;32m---> 13\u001b[0m \u001b[43mnetwork\u001b[49m\u001b[38;5;241;43m.\u001b[39;49m\u001b[43mtrain\u001b[49m\u001b[43m(\u001b[49m\u001b[43mX_np\u001b[49m\u001b[43m,\u001b[49m\u001b[43m \u001b[49m\u001b[43my_np\u001b[49m\u001b[43m,\u001b[49m\u001b[43m \u001b[49m\u001b[43mlearning_rate\u001b[49m\u001b[38;5;241;43m=\u001b[39;49m\u001b[38;5;241;43m0.01\u001b[39;49m\u001b[43m,\u001b[49m\u001b[43m \u001b[49m\u001b[43mepochs\u001b[49m\u001b[38;5;241;43m=\u001b[39;49m\u001b[38;5;241;43m100\u001b[39;49m\u001b[43m)\u001b[49m\n",
      "Cell \u001b[0;32mIn[4], line 30\u001b[0m, in \u001b[0;36mMultiLayerNetwork.train\u001b[0;34m(self, x_train, y_train, learning_rate, epochs)\u001b[0m\n\u001b[1;32m     28\u001b[0m \u001b[38;5;28;01mfor\u001b[39;00m x, y \u001b[38;5;129;01min\u001b[39;00m \u001b[38;5;28mzip\u001b[39m(x_train, y_train):\n\u001b[1;32m     29\u001b[0m     output \u001b[38;5;241m=\u001b[39m \u001b[38;5;28mself\u001b[39m\u001b[38;5;241m.\u001b[39mforward(x)\n\u001b[0;32m---> 30\u001b[0m     \u001b[38;5;28;43mself\u001b[39;49m\u001b[38;5;241;43m.\u001b[39;49m\u001b[43mbackward\u001b[49m\u001b[43m(\u001b[49m\u001b[43my\u001b[49m\u001b[43m,\u001b[49m\u001b[43m \u001b[49m\u001b[43mlearning_rate\u001b[49m\u001b[43m)\u001b[49m\n\u001b[1;32m     31\u001b[0m \u001b[38;5;28;01mif\u001b[39;00m epoch \u001b[38;5;241m%\u001b[39m \u001b[38;5;241m10\u001b[39m \u001b[38;5;241m==\u001b[39m \u001b[38;5;241m0\u001b[39m:\n\u001b[1;32m     32\u001b[0m     \u001b[38;5;28mprint\u001b[39m(\u001b[38;5;124mf\u001b[39m\u001b[38;5;124m'\u001b[39m\u001b[38;5;124mEpoch \u001b[39m\u001b[38;5;132;01m{\u001b[39;00mepoch\u001b[38;5;132;01m}\u001b[39;00m\u001b[38;5;124m, Loss: \u001b[39m\u001b[38;5;132;01m{\u001b[39;00m\u001b[38;5;28mself\u001b[39m\u001b[38;5;241m.\u001b[39mcompute_loss(x_train,\u001b[38;5;250m \u001b[39my_train)\u001b[38;5;132;01m}\u001b[39;00m\u001b[38;5;124m'\u001b[39m)\n",
      "Cell \u001b[0;32mIn[4], line 20\u001b[0m, in \u001b[0;36mMultiLayerNetwork.backward\u001b[0;34m(self, y_true, learning_rate)\u001b[0m\n\u001b[1;32m     18\u001b[0m last_activation \u001b[38;5;241m=\u001b[39m \u001b[38;5;28mself\u001b[39m\u001b[38;5;241m.\u001b[39mactivations[\u001b[38;5;241m-\u001b[39m\u001b[38;5;241m1\u001b[39m]\n\u001b[1;32m     19\u001b[0m y_pred \u001b[38;5;241m=\u001b[39m softmax(last_activation)\n\u001b[0;32m---> 20\u001b[0m output_gradient \u001b[38;5;241m=\u001b[39m (\u001b[43my_pred\u001b[49m\u001b[43m \u001b[49m\u001b[38;5;241;43m-\u001b[39;49m\u001b[43m \u001b[49m\u001b[43my_true\u001b[49m) \u001b[38;5;241m/\u001b[39m y_pred\u001b[38;5;241m.\u001b[39mshape[\u001b[38;5;241m0\u001b[39m]  \u001b[38;5;66;03m# Cross-entropy gradient\u001b[39;00m\n\u001b[1;32m     22\u001b[0m \u001b[38;5;28;01mfor\u001b[39;00m i \u001b[38;5;129;01min\u001b[39;00m \u001b[38;5;28mreversed\u001b[39m(\u001b[38;5;28mrange\u001b[39m(\u001b[38;5;28mlen\u001b[39m(\u001b[38;5;28mself\u001b[39m\u001b[38;5;241m.\u001b[39mlayers))):\n\u001b[1;32m     23\u001b[0m     output_gradient \u001b[38;5;241m=\u001b[39m relu_derivative(\u001b[38;5;28mself\u001b[39m\u001b[38;5;241m.\u001b[39mactivations[i\u001b[38;5;241m+\u001b[39m\u001b[38;5;241m1\u001b[39m]) \u001b[38;5;241m*\u001b[39m output_gradient\n",
      "\u001b[0;31mUFuncTypeError\u001b[0m: ufunc 'subtract' did not contain a loop with signature matching types (dtype('float64'), dtype('<U1')) -> None"
     ]
    }
   ],
   "source": [
    "input_size = X.shape[1]\n",
    "output_size = 1\n",
    "\n",
    "layer_sizes = [input_size, 1024, 1024, 1024,\n",
    "               1024, 1024, output_size]  # 六个隐藏层加输出层\n",
    "\n",
    "# 生成数据（示例）\n",
    "\n",
    "X_np = X.values\n",
    "y_np = y.values\n",
    "print(X_np.shape, y_np.shape)\n",
    "network = MultiLayerNetwork(layer_sizes)\n",
    "network.train(X_np, y_np, learning_rate=0.01, epochs=100)"
   ]
  }
 ],
 "metadata": {
  "kernelspec": {
   "display_name": "math",
   "language": "python",
   "name": "python3"
  },
  "language_info": {
   "codemirror_mode": {
    "name": "ipython",
    "version": 3
   },
   "file_extension": ".py",
   "mimetype": "text/x-python",
   "name": "python",
   "nbconvert_exporter": "python",
   "pygments_lexer": "ipython3",
   "version": "3.11.8"
  }
 },
 "nbformat": 4,
 "nbformat_minor": 2
}
