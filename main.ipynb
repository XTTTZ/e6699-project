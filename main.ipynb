{
 "cells": [
  {
   "cell_type": "code",
   "execution_count": 1,
   "metadata": {},
   "outputs": [],
   "source": [
    "from sklearn.datasets import fetch_openml\n",
    "import numpy as np\n",
    "np.random.seed(42)"
   ]
  },
  {
   "cell_type": "code",
   "execution_count": 8,
   "metadata": {},
   "outputs": [],
   "source": [
    "def relu(x):\n",
    "    return np.maximum(0, x)\n",
    "\n",
    "\n",
    "def relu_derivative(x):\n",
    "    return (x > 0).astype(float)\n",
    "\n",
    "\n",
    "class DenseLayer:\n",
    "    def __init__(self, input_size, output_size):\n",
    "        self.weights = np.random.randn(input_size, output_size) * 0.01\n",
    "        self.biases = np.zeros((1, output_size))\n",
    "\n",
    "    def forward(self, input):\n",
    "        self.input = input\n",
    "        return np.dot(input, self.weights) + self.biases\n",
    "\n",
    "    def backward(self, output_gradient, learning_rate):\n",
    "        weights_gradient = np.dot(self.input.T, output_gradient)\n",
    "        input_gradient = np.dot(output_gradient, self.weights.T)\n",
    "        self.weights -= learning_rate * weights_gradient\n",
    "        self.biases -= learning_rate * \\\n",
    "            np.sum(output_gradient, axis=0, keepdims=True)\n",
    "        return input_gradient\n",
    "\n",
    "\n",
    "def softmax(logits):\n",
    "    \"\"\"Compute softmax values for each set of scores in logits.\"\"\"\n",
    "    exp_scores = np.exp(logits - np.max(logits, axis=1, keepdims=True))\n",
    "    return exp_scores / np.sum(exp_scores, axis=1, keepdims=True)"
   ]
  },
  {
   "cell_type": "code",
   "execution_count": 11,
   "metadata": {},
   "outputs": [],
   "source": [
    "# 加载MNIST数据\n",
    "mnist = fetch_openml('mnist_784', version=1)\n",
    "X, y = mnist[\"data\"], mnist[\"target\"]"
   ]
  },
  {
   "cell_type": "code",
   "execution_count": 10,
   "metadata": {},
   "outputs": [],
   "source": [
    "class MultiLayerNetwork:\n",
    "    def __init__(self, layer_sizes):\n",
    "        self.layers = []\n",
    "        for i in range(len(layer_sizes) - 1):\n",
    "            self.layers.append(DenseLayer(layer_sizes[i], layer_sizes[i+1]))\n",
    "\n",
    "    def forward(self, input_data):\n",
    "        self.activations = [input_data]\n",
    "        x = input_data\n",
    "        for layer in self.layers:\n",
    "            x = layer.forward(x)\n",
    "            x = relu(x)  # Apply ReLU activation function\n",
    "            self.activations.append(x)\n",
    "        return x\n",
    "\n",
    "    def backward(self, y_true, learning_rate):\n",
    "        if np.isscalar(y_true):\n",
    "            # Make y_true an array if it's a scalar\n",
    "            y_true = np.array([y_true])\n",
    "\n",
    "        n_classes = self.activations[-1].shape[1]\n",
    "        y_true_one_hot = np.zeros((y_true.size, n_classes))\n",
    "        y_true_one_hot[np.arange(y_true.size), y_true] = 1\n",
    "\n",
    "        last_activation = self.activations[-1]\n",
    "        y_pred = softmax(last_activation)\n",
    "        output_gradient = (y_pred - y_true_one_hot) / y_true.shape[0]\n",
    "\n",
    "        for i in reversed(range(len(self.layers))):\n",
    "            output_gradient = relu_derivative(\n",
    "                self.activations[i+1]) * output_gradient\n",
    "            output_gradient = self.layers[i].backward(\n",
    "                output_gradient, learning_rate)\n",
    "\n",
    "    def compute_loss(self, x_train, y_train):\n",
    "        loss = 0\n",
    "        for x, y in zip(x_train, y_train):\n",
    "            y_pred = softmax(self.forward(x.reshape(1, -1)))\n",
    "            y_true_one_hot = np.zeros((1, y_pred.shape[1]))\n",
    "            y_true_one_hot[0, y] = 1\n",
    "            loss += -np.sum(y * np.log(y_pred))\n",
    "        return loss / len(x_train)\n",
    "\n",
    "    def train(self, x_train, y_train, learning_rate, epochs):\n",
    "        for epoch in range(epochs):\n",
    "            for x, y in zip(x_train, y_train):\n",
    "                x = x.reshape(1, -1)  # Reshape x to [1, num_features]\n",
    "                self.forward(x)\n",
    "                self.backward(y, learning_rate)\n",
    "            # if epoch % 10 == 0:\n",
    "            print(\n",
    "                f'Epoch {epoch}, Loss: {self.compute_loss(x_train, y_train)}')"
   ]
  },
  {
   "cell_type": "code",
   "execution_count": 13,
   "metadata": {},
   "outputs": [],
   "source": [
    "input_size = X.shape[1]\n",
    "output_size = 10\n",
    "\n",
    "layer_sizes = [input_size, 1024, 1024, 1024,\n",
    "               1024, 1024, output_size]  # 六个隐藏层加输出层\n",
    "\n",
    "# 生成数据（示例）\n",
    "\n",
    "X_np = X.values\n",
    "y_np = y.values.astype(int)\n",
    "network = MultiLayerNetwork(layer_sizes)\n",
    "network.train(X_np, y_np, learning_rate=0.01, epochs=1)"
   ]
  }
 ],
 "metadata": {
  "kernelspec": {
   "display_name": "math",
   "language": "python",
   "name": "python3"
  },
  "language_info": {
   "codemirror_mode": {
    "name": "ipython",
    "version": 3
   },
   "file_extension": ".py",
   "mimetype": "text/x-python",
   "name": "python",
   "nbconvert_exporter": "python",
   "pygments_lexer": "ipython3",
   "version": "3.11.8"
  }
 },
 "nbformat": 4,
 "nbformat_minor": 2
}
